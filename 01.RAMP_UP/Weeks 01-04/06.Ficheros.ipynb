{
 "cells": [
  {
   "cell_type": "code",
   "execution_count": null,
   "metadata": {},
   "outputs": [],
   "source": [
    "# Para poder realizar operaciones de lectura y escritura\n",
    "import os\n",
    "import sys"
   ]
  },
  {
   "cell_type": "code",
   "execution_count": 2,
   "metadata": {},
   "outputs": [
    {
     "ename": "SyntaxError",
     "evalue": "invalid syntax (3738313324.py, line 15)",
     "output_type": "error",
     "traceback": [
      "\u001b[1;36m  Cell \u001b[1;32mIn[2], line 15\u001b[1;36m\u001b[0m\n\u001b[1;33m    file_out.close()\u001b[0m\n\u001b[1;37m    ^\u001b[0m\n\u001b[1;31mSyntaxError\u001b[0m\u001b[1;31m:\u001b[0m invalid syntax\n"
     ]
    }
   ],
   "source": [
    "# Para poder abrir un fichero ejemplo thebridge.txt y escribir en ello\n",
    "# Definimos el nombre del fichero\n",
    "nombre_fichero = \"thebridge.txt\"\n",
    "\n",
    "file_out = open(nombre_fichero, \"w\", encoding= \"utf-8\")\n",
    "\n",
    "for n in range(1,10):\n",
    "    \"\"\"\"\n",
    "    Procederemos con la escritura de 10 lineas de codigo\n",
    "    \"\"\"\n",
    "    # llamando el fichero procederemos \n",
    "    file_out.write(\"Linea %d%s\" % (n, os.linesep)\n",
    "\n",
    "    # Finalmente cerramos el fichero\n",
    "    file_out.close()"
   ]
  },
  {
   "cell_type": "code",
   "execution_count": null,
   "metadata": {},
   "outputs": [],
   "source": [
    "# la alternativa a open / Close\n",
    "\n",
    "with open(nombre_fichero, \"r\", encoding=\"utf-8\") as fichero:\n",
    "    for line in fichero:\n",
    "        print(line, end=\"\")\n",
    "\n",
    "# no tiene el metodo close(), porque el with"
   ]
  },
  {
   "cell_type": "code",
   "execution_count": null,
   "metadata": {},
   "outputs": [],
   "source": []
  }
 ],
 "metadata": {
  "kernelspec": {
   "display_name": "ramp_up_py395",
   "language": "python",
   "name": "python3"
  },
  "language_info": {
   "codemirror_mode": {
    "name": "ipython",
    "version": 3
   },
   "file_extension": ".py",
   "mimetype": "text/x-python",
   "name": "python",
   "nbconvert_exporter": "python",
   "pygments_lexer": "ipython3",
   "version": "3.9.5"
  },
  "orig_nbformat": 4
 },
 "nbformat": 4,
 "nbformat_minor": 2
}
